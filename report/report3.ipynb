{
 "cells": [
  {
   "cell_type": "code",
   "execution_count": null,
   "metadata": {
    "collapsed": true
   },
   "outputs": [],
   "source": [
    "# https://www.kaggle.com/ludobenistant/hr-analytics"
   ]
  },
  {
   "cell_type": "code",
   "execution_count": null,
   "metadata": {
    "collapsed": true
   },
   "outputs": [],
   "source": [
    "import itertools as it\n",
    "import operator as op\n",
    "from matplotlib import cm as colmap\n",
    "import matplotlib.pyplot as plt\n",
    "%matplotlib inline\n",
    "import numpy as np\n",
    "import pandas as pd\n",
    "import seaborn as sns\n",
    "from sklearn.linear_model import LinearRegression\n",
    "from sklearn.model_selection import train_test_split\n",
    "from sklearn.pipeline import make_pipeline\n",
    "from sklearn.preprocessing import PolynomialFeatures"
   ]
  },
  {
   "cell_type": "code",
   "execution_count": null,
   "metadata": {
    "collapsed": true
   },
   "outputs": [],
   "source": [
    "df = pd.read_csv(\"../data/HR.csv\")"
   ]
  },
  {
   "cell_type": "code",
   "execution_count": null,
   "metadata": {
    "collapsed": false
   },
   "outputs": [],
   "source": [
    "df.rename(columns = {\n",
    "    \"average_montly_hours\": \"avg_monthly_hours\",\n",
    "    \"Work_accident\": \"work_accident\",\n",
    "    \"sales\": \"department\"\n",
    "}, inplace = True)\n",
    "df"
   ]
  },
  {
   "cell_type": "code",
   "execution_count": null,
   "metadata": {
    "collapsed": false
   },
   "outputs": [],
   "source": [
    "sns.heatmap(df.corr())"
   ]
  },
  {
   "cell_type": "code",
   "execution_count": null,
   "metadata": {
    "collapsed": false
   },
   "outputs": [],
   "source": [
    "X_train, X_test, y_train, y_test = train_test_split(\n",
    "    df[[\"satisfaction_level\", \"last_evaluation\", \"number_project\", \"avg_monthly_hours\", \"time_spend_company\", \"work_accident\", \"promotion_last_5years\"]].values,\n",
    "    df[\"left\"].values, train_size = 0.8, random_state = 1\n",
    ")"
   ]
  },
  {
   "cell_type": "code",
   "execution_count": null,
   "metadata": {
    "collapsed": false
   },
   "outputs": [],
   "source": [
    "model_poly = make_pipeline(PolynomialFeatures(3), LinearRegression())\n",
    "model_poly.fit(X_train, y_train)\n",
    "predictions = model_poly.predict(X_test)\n",
    "predictions = np.vectorize(lambda x: 0 if x <= 0.5 else 1)(predictions)"
   ]
  },
  {
   "cell_type": "code",
   "execution_count": null,
   "metadata": {
    "collapsed": false
   },
   "outputs": [],
   "source": [
    "print(sum(predictions == y_test), y_test.shape[0])"
   ]
  },
  {
   "cell_type": "code",
   "execution_count": null,
   "metadata": {
    "collapsed": false
   },
   "outputs": [],
   "source": [
    "# ----"
   ]
  },
  {
   "cell_type": "code",
   "execution_count": null,
   "metadata": {
    "collapsed": true
   },
   "outputs": [],
   "source": [
    "import statsmodels.formula.api as smf"
   ]
  },
  {
   "cell_type": "code",
   "execution_count": null,
   "metadata": {
    "collapsed": false
   },
   "outputs": [],
   "source": [
    "formula = \"left ~ satisfaction_level + last_evaluation + number_project + avg_monthly_hours + time_spend_company + work_accident==1 + promotion_last_5years==0 + C(salary) + C(department)\"\n",
    "model = smf.logit(formula, data = df).fit()\n",
    "model.summary()"
   ]
  },
  {
   "cell_type": "code",
   "execution_count": null,
   "metadata": {
    "collapsed": false
   },
   "outputs": [],
   "source": [
    "model.params.sort_values()"
   ]
  },
  {
   "cell_type": "code",
   "execution_count": null,
   "metadata": {
    "collapsed": false
   },
   "outputs": [],
   "source": [
    "# we only want statistically significant features\n",
    "significant = model.params[model.pvalues < 0.1]\n",
    "\n",
    "# numerical variables scale inversely affects coefficient scale, so normalize them\n",
    "significant.satisfaction_level *= df.satisfaction_level.max()\n",
    "significant.number_project *= df.number_project.max()\n",
    "significant.avg_monthly_hours *= df.avg_monthly_hours.max()\n",
    "significant.time_spend_company *= df.time_spend_company.max()\n",
    "significant = significant.sort_values()\n",
    "\n",
    "keys, values = significant.index, significant.values\n",
    "keys = [\"[N] Satisfaction Level\", \"[N] Base Rate (Includes High Salary)\", \"[N] Number of Projects\", \"[B] Had a Work Accident\", \"[B] Works in Misc./Unknown\", \"[B] Works in Management\", \"[B] Works in Support\", \"[B] Works in Tech\", \"[B] Works in HR\", \"[N] Last Evaluation\", \"[N] Avg. Monthly Hours\", \"[B] Medium Salary\", \"[B] Not Promoted in Last 5 Years\", \"[B] Low Salary\", \"[N] Years at Company\"]\n",
    "# ask Allen how to keep high salary separate from base rate\n",
    "\n",
    "\n",
    "fig, ax = plt.subplots(figsize = (16, 8))\n",
    "positions = [p + 0.5 for p in range(len(values))]\n",
    "b_color = colmap.Blues(np.abs(values[values < 0]))\n",
    "r_color = colmap.Reds(values[values >= 0])\n",
    "ax.bar(positions, values, color = np.vstack((b_color, r_color)))\n",
    "ax.set_xticks([p + 0.4 for p in positions])\n",
    "ax.set_xticklabels(keys, rotation = 80)\n",
    "plt.tick_params(labelsize = 16)\n",
    "plt.xlabel(\"Feature ([N] for number, [B] for boolean)\", fontsize = 20)\n",
    "plt.ylabel(\"Quitting Likelihood Coefficient\", fontsize = 20)\n",
    "plt.title(\"Figure 1: LogReg Model Coefficients\", fontsize = 24)\n",
    "pass"
   ]
  },
  {
   "cell_type": "code",
   "execution_count": null,
   "metadata": {
    "collapsed": true
   },
   "outputs": [],
   "source": [
    "class CompanyModel(object):\n",
    "    def __init__(self):\n",
    "        self.results = pd.DataFrame()\n",
    "\n",
    "    def train(self, data, formula):\n",
    "        self.model = smf.logit(formula, data = data).fit()\n",
    "\n",
    "    def predict(self, keys, vals):\n",
    "        # model.predict returns probability [0.0 - 1.0] that an employee leaves based on the given conditions;\n",
    "        # we can extend this probability to be the ratio of employees that leave a company with such conditions\n",
    "        sample = pd.DataFrame([vals], columns = keys)\n",
    "        sample[\"attrition\"] = self.model.predict(sample)[0]\n",
    "        self.results = self.results.append(sample, ignore_index = True)"
   ]
  },
  {
   "cell_type": "code",
   "execution_count": null,
   "metadata": {
    "collapsed": false
   },
   "outputs": [],
   "source": [
    "cm = CompanyModel()\n",
    "cm.train(df, \"left ~ satisfaction_level + last_evaluation + number_project + avg_monthly_hours + time_spend_company + work_accident==0 + promotion_last_5years==0 + C(salary) + C(department)\")"
   ]
  },
  {
   "cell_type": "code",
   "execution_count": null,
   "metadata": {
    "collapsed": false
   },
   "outputs": [],
   "source": [
    "params = {\n",
    "    \"satisfaction_level\":    np.arange(0.0, 1.2, 0.2),\n",
    "    \"last_evaluation\":       np.arange(0.0, 1.2, 0.2),\n",
    "    \"number_project\":        range(2, 10, 2),\n",
    "    \"avg_monthly_hours\":     range(100, 350, 50),\n",
    "    \"time_spend_company\":    range(2, 14, 4),\n",
    "    \"work_accident\":         [0, 1],\n",
    "    \"promotion_last_5years\": [0, 1],\n",
    "    \"salary\":                [\"low\", \"medium\", \"high\"],\n",
    "    \"department\":            [\"sales\", \"technical\", \"support\", \"IT\", \"product_mng\", \"marketing\", \"RandD\", \"accounting\", \"hr\", \"management\"]\n",
    "}\n",
    "# 6 * 6 * 4 * 5 * 3 * 2 * 2 * 3 * 10 = 259200 cases... long runtime\n",
    "keys, vals = zip(*params.items())\n",
    "for prod in it.product(*vals):\n",
    "    cm.predict(keys, prod)"
   ]
  },
  {
   "cell_type": "code",
   "execution_count": null,
   "metadata": {
    "collapsed": false
   },
   "outputs": [],
   "source": [
    "total = len(cm.results)\n",
    "for quit_rate in [0.01, 0.05, 0.10]:\n",
    "    l = len(cm.results[cm.results.attrition < quit_rate])\n",
    "    print(\"attrition <= {0}%: {1} / {2} condition combinations ({3:.2f}%)\".format(100 * quit_rate, l, total, 100.0 * l / total))"
   ]
  },
  {
   "cell_type": "code",
   "execution_count": null,
   "metadata": {
    "collapsed": false
   },
   "outputs": [],
   "source": [
    "cm.results.sort_values(\"attrition\", ascending = False)"
   ]
  },
  {
   "cell_type": "code",
   "execution_count": null,
   "metadata": {
    "collapsed": true
   },
   "outputs": [],
   "source": [
    "# make example plots of how attrition rate changes when all\n",
    "# but 1 or 2 variables are held constant (at different levels)?"
   ]
  }
 ],
 "metadata": {
  "kernelspec": {
   "display_name": "Python 2",
   "language": "python",
   "name": "python2"
  },
  "language_info": {
   "codemirror_mode": {
    "name": "ipython",
    "version": 2
   },
   "file_extension": ".py",
   "mimetype": "text/x-python",
   "name": "python",
   "nbconvert_exporter": "python",
   "pygments_lexer": "ipython2",
   "version": "2.7.6"
  }
 },
 "nbformat": 4,
 "nbformat_minor": 2
}
