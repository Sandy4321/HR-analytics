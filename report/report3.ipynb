{
 "cells": [
  {
   "cell_type": "code",
   "execution_count": null,
   "metadata": {
    "collapsed": true
   },
   "outputs": [],
   "source": [
    "# https://www.kaggle.com/ludobenistant/hr-analytics"
   ]
  },
  {
   "cell_type": "code",
   "execution_count": null,
   "metadata": {
    "collapsed": true
   },
   "outputs": [],
   "source": [
    "import itertools as it\n",
    "import operator as op\n",
    "import matplotlib.pyplot as plt\n",
    "%matplotlib inline\n",
    "import numpy as np\n",
    "import pandas as pd\n",
    "import seaborn as sns\n",
    "from sklearn.linear_model import LinearRegression\n",
    "from sklearn.model_selection import train_test_split\n",
    "from sklearn.pipeline import make_pipeline\n",
    "from sklearn.preprocessing import PolynomialFeatures"
   ]
  },
  {
   "cell_type": "code",
   "execution_count": null,
   "metadata": {
    "collapsed": true
   },
   "outputs": [],
   "source": [
    "df = pd.read_csv(\"../data/HR.csv\")"
   ]
  },
  {
   "cell_type": "code",
   "execution_count": null,
   "metadata": {
    "collapsed": false
   },
   "outputs": [],
   "source": [
    "df.rename(columns = {\n",
    "    \"average_montly_hours\": \"avg_monthly_hours\",\n",
    "    \"Work_accident\": \"work_accident\",\n",
    "    \"sales\": \"department\"\n",
    "}, inplace = True)\n",
    "df"
   ]
  },
  {
   "cell_type": "code",
   "execution_count": null,
   "metadata": {
    "collapsed": false
   },
   "outputs": [],
   "source": [
    "sns.heatmap(df.corr())"
   ]
  },
  {
   "cell_type": "code",
   "execution_count": null,
   "metadata": {
    "collapsed": false
   },
   "outputs": [],
   "source": [
    "X_train, X_test, y_train, y_test = train_test_split(\n",
    "    df[[\"satisfaction_level\", \"last_evaluation\", \"number_project\", \"avg_monthly_hours\", \"time_spend_company\", \"work_accident\", \"promotion_last_5years\"]].values,\n",
    "    df[\"left\"].values, train_size = 0.8, random_state = 1\n",
    ")"
   ]
  },
  {
   "cell_type": "code",
   "execution_count": null,
   "metadata": {
    "collapsed": false
   },
   "outputs": [],
   "source": [
    "model_poly = make_pipeline(PolynomialFeatures(3), LinearRegression())\n",
    "model_poly.fit(X_train, y_train)\n",
    "predictions = model_poly.predict(X_test)\n",
    "predictions = np.vectorize(lambda x: 0 if x <= 0.5 else 1)(predictions)"
   ]
  },
  {
   "cell_type": "code",
   "execution_count": null,
   "metadata": {
    "collapsed": false
   },
   "outputs": [],
   "source": [
    "print(sum(predictions == y_test), y_test.shape[0])"
   ]
  },
  {
   "cell_type": "code",
   "execution_count": null,
   "metadata": {
    "collapsed": true
   },
   "outputs": [],
   "source": [
    "# ----"
   ]
  },
  {
   "cell_type": "code",
   "execution_count": null,
   "metadata": {
    "collapsed": true
   },
   "outputs": [],
   "source": [
    "import statsmodels.formula.api as smf"
   ]
  },
  {
   "cell_type": "code",
   "execution_count": null,
   "metadata": {
    "collapsed": false
   },
   "outputs": [],
   "source": [
    "formula = \"left ~ satisfaction_level + last_evaluation + number_project + avg_monthly_hours + time_spend_company + work_accident==1 + promotion_last_5years==0 + C(salary) + C(department)\"\n",
    "model = smf.logit(formula, data = df).fit()\n",
    "model.summary()"
   ]
  },
  {
   "cell_type": "code",
   "execution_count": null,
   "metadata": {
    "collapsed": false
   },
   "outputs": [],
   "source": [
    "model.params.sort_values()\n",
    "# plot coefficients?\n",
    "# colormap for blue = neg corr (satisfaction), red = pos corr (low salary), white = no corr (hours/month)?"
   ]
  },
  {
   "cell_type": "code",
   "execution_count": null,
   "metadata": {
    "collapsed": true
   },
   "outputs": [],
   "source": [
    "class CompanyModel(object):\n",
    "    def __init__(self):\n",
    "        self.results = pd.DataFrame()\n",
    "\n",
    "    def train(self, data, formula):\n",
    "        self.model = smf.logit(formula, data = data).fit()\n",
    "\n",
    "    def predict(self, keys, vals):\n",
    "        # model.predict returns probability [0.0 - 1.0] that an employee leaves based on the given conditions;\n",
    "        # we can extend this probability to be the ratio of employees that leave a company with such conditions\n",
    "        sample = pd.DataFrame([vals], columns = keys)\n",
    "        sample[\"attrition\"] = self.model.predict(sample)[0]\n",
    "        self.results = self.results.append(sample, ignore_index = True)"
   ]
  },
  {
   "cell_type": "code",
   "execution_count": null,
   "metadata": {
    "collapsed": false
   },
   "outputs": [],
   "source": [
    "cm = CompanyModel()\n",
    "cm.train(df, \"left ~ satisfaction_level + last_evaluation + number_project + avg_monthly_hours + time_spend_company + work_accident==0 + promotion_last_5years==0 + C(salary) + C(department)\")"
   ]
  },
  {
   "cell_type": "code",
   "execution_count": null,
   "metadata": {
    "collapsed": false
   },
   "outputs": [],
   "source": [
    "params = {\n",
    "    \"satisfaction_level\":    np.arange(0.1, 1.1, 0.1),\n",
    "    \"last_evaluation\":       np.arange(0.1, 1.1, 0.1),\n",
    "    \"number_project\":        range(2, 8, 1),\n",
    "    \"avg_monthly_hours\":     range(100, 320, 20),\n",
    "    \"time_spend_company\":    range(2, 11, 1),\n",
    "    \"work_accident\":         [0, 1],\n",
    "    \"promotion_last_5years\": [0, 1],\n",
    "    \"salary\":                [\"low\", \"medium\", \"high\"],\n",
    "    \"department\":            [\"sales\", \"technical\", \"support\", \"IT\", \"product_mng\", \"marketing\", \"RandD\", \"accounting\", \"hr\", \"management\"]\n",
    "}\n",
    "# 10*10*6*11*9*2*2*3*10 = 7128000\n",
    "keys, vals = zip(*params.items())\n",
    "for prod in it.product(*vals):\n",
    "    cm.predict(keys, prod)"
   ]
  },
  {
   "cell_type": "code",
   "execution_count": null,
   "metadata": {
    "collapsed": false
   },
   "outputs": [],
   "source": [
    "cm.results[cm.results.attrition < 0.05]"
   ]
  },
  {
   "cell_type": "code",
   "execution_count": null,
   "metadata": {
    "collapsed": false
   },
   "outputs": [],
   "source": [
    "# for quit_rate in [0.01, 0.05, 0.1]:\n",
    "#     print(\"with at most {0}% of employees quitting, employee conditions can be as poor as {1}!\".format(quit_rate * 100, cm.results[cm.results.attrition < quit_rate]))"
   ]
  },
  {
   "cell_type": "code",
   "execution_count": null,
   "metadata": {
    "collapsed": true
   },
   "outputs": [],
   "source": [
    "# \"Designing the Optimal Employee Experience\"\n",
    "# see how bad conditions can be for employees before they quit?\n",
    "# make regression model, figure out how low pay can be (etc.) for each predicted % of employees leaving"
   ]
  }
 ],
 "metadata": {
  "kernelspec": {
   "display_name": "Python 2",
   "language": "python",
   "name": "python2"
  },
  "language_info": {
   "codemirror_mode": {
    "name": "ipython",
    "version": 2
   },
   "file_extension": ".py",
   "mimetype": "text/x-python",
   "name": "python",
   "nbconvert_exporter": "python",
   "pygments_lexer": "ipython2",
   "version": "2.7.6"
  }
 },
 "nbformat": 4,
 "nbformat_minor": 2
}
